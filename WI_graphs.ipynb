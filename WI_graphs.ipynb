{
 "cells": [
  {
   "cell_type": "markdown",
   "metadata": {},
   "source": [
    "# Github Connections\n"
   ]
  },
  {
   "cell_type": "markdown",
   "metadata": {},
   "source": [
    "### Set up"
   ]
  },
  {
   "cell_type": "markdown",
   "metadata": {},
   "source": [
    "Import libraries"
   ]
  },
  {
   "cell_type": "code",
   "execution_count": 2,
   "metadata": {},
   "outputs": [
    {
     "name": "stderr",
     "output_type": "stream",
     "text": [
      "/Users/yanvansnippenburg/anaconda3/lib/python3.11/site-packages/pandas/core/arrays/masked.py:60: UserWarning: Pandas requires version '1.3.6' or newer of 'bottleneck' (version '1.3.5' currently installed).\n",
      "  from pandas.core import (\n"
     ]
    }
   ],
   "source": [
    "from datetime import datetime, timedelta\n",
    "from dateutil.relativedelta import relativedelta  # Make sure to import this\n",
    "import requests\n",
    "import concurrent.futures\n",
    "from dateutil.relativedelta import relativedelta\n",
    "import pandas as pd\n",
    "import matplotlib.pyplot as plt\n",
    "import os\n",
    "import base64\n",
    "import pandas as pd\n",
    "import numpy as np\n",
    "from dotenv import load_dotenv\n",
    "import time\n"
   ]
  },
  {
   "cell_type": "markdown",
   "metadata": {},
   "source": [
    "Load global vars"
   ]
  },
  {
   "cell_type": "code",
   "execution_count": 3,
   "metadata": {},
   "outputs": [],
   "source": [
    "# Load variables from .env file\n",
    "load_dotenv()\n",
    "\n",
    "# Access the environment variables\n",
    "GITHUB_REPO = os.getenv(\"GITHUB_REPO\")\n",
    "GITHUB_BRANCH = os.getenv(\"GITHUB_BRANCH\")\n",
    "GITHUB_TOKEN = os.getenv(\"GITHUB_TOKEN\")\n",
    "api_key = os.getenv(\"API_KEY\")"
   ]
  },
  {
   "cell_type": "markdown",
   "metadata": {},
   "source": [
    "## Temperature data and locations functions"
   ]
  },
  {
   "cell_type": "markdown",
   "metadata": {},
   "source": [
    "Fetch daily temp data, lat long based"
   ]
  },
  {
   "cell_type": "code",
   "execution_count": 8,
   "metadata": {},
   "outputs": [],
   "source": [
    "'''\n",
    "Function \n",
    "inputs:\n",
    "lat, lon: Latitude and Longitude of the location\n",
    "start, end: Start and end dates in \"YYYY-MM-DD\" format\n",
    "\n",
    "Outputs:\n",
    "DataFrame containing daily temperature and precipitation data from NASA POWER API.\n",
    "\n",
    "'''\n",
    "\n",
    "def get_nasa_power_weather(lat, lon, months=6):\n",
    "\n",
    "    end_date = datetime.today()\n",
    "    start_date = end_date - relativedelta(weeks=months)\n",
    "\n",
    "    start_dt = start_date.strftime(\"%Y%m%d\")\n",
    "    end_dt = end_date.strftime(\"%Y%m%d\")\n",
    "\n",
    "    url = (\n",
    "        f\"https://power.larc.nasa.gov/api/temporal/daily/point?\"\n",
    "        f\"start={start_dt}&end={end_dt}&latitude={lat}&longitude={lon}\"\n",
    "        f\"&community=SB&parameters=T2M,PRECTOT&format=JSON\"\n",
    "    )\n",
    "\n",
    "    response = requests.get(url)\n",
    "    if response.status_code != 200:\n",
    "        raise Exception(f\"API request failed: {response.status_code}\")\n",
    "\n",
    "    data = response.json()\n",
    "\n",
    "    try:\n",
    "        param_data = data['properties']['parameter']\n",
    "        temp_data = param_data.get(\"T2M\", {})\n",
    "        precip_data = param_data.get(\"PRECTOT\", {})\n",
    "\n",
    "        if not temp_data:\n",
    "            raise Exception(\"Temperature (T2M) data missing\")\n",
    "        \n",
    "        dates = list(temp_data.keys())\n",
    "        df = pd.DataFrame({\n",
    "            \"date\": pd.to_datetime(dates),\n",
    "            \"Temperature_C\": list(temp_data.values()),\n",
    "            \"Precipitation_mm\": [precip_data.get(d, None) for d in dates],\n",
    "        })\n",
    "\n",
    "        df.set_index(\"date\", inplace=True)\n",
    "        return df\n",
    "\n",
    "    except Exception as e:\n",
    "        print(\"Raw API data:\", data)\n",
    "        raise Exception(f\"Data parsing failed: {e}\")"
   ]
  },
  {
   "cell_type": "markdown",
   "metadata": {},
   "source": [
    "Import all places with coordinates\n"
   ]
  },
  {
   "cell_type": "code",
   "execution_count": null,
   "metadata": {},
   "outputs": [],
   "source": [
    "# Column names from GeoNames documentation\n",
    "columns = [\n",
    "    \"geonameid\", \"name\", \"asciiname\", \"alternatenames\",\n",
    "    \"latitude\", \"longitude\", \"feature_class\", \"feature_code\",\n",
    "    \"country_code\", \"cc2\", \"admin1_code\", \"admin2_code\",\n",
    "    \"admin3_code\", \"admin4_code\", \"population\", \"elevation\",\n",
    "    \"dem\", \"timezone\", \"modification_date\"\n",
    "]\n",
    "\n",
    "# Load file\n",
    "coord_data = pd.read_csv(\"VN.txt\", sep=\"\\t\", names=columns, dtype=str)\n",
    "\n",
    "# Convert lat/lon and population to numeric\n",
    "coord_data[\"latitude\"] = pd.to_numeric(coord_data[\"latitude\"])\n",
    "coord_data[\"longitude\"] = pd.to_numeric(coord_data[\"longitude\"])\n",
    "coord_data[\"population\"] = pd.to_numeric(coord_data[\"population\"])"
   ]
  },
  {
   "cell_type": "markdown",
   "metadata": {},
   "source": [
    "Allows for city based coords"
   ]
  },
  {
   "cell_type": "code",
   "execution_count": 10,
   "metadata": {},
   "outputs": [],
   "source": [
    "'''\n",
    "Function: get_nasa_power_weather\n",
    "\n",
    "Inputs:\n",
    "- lat (float): Latitude of the location (e.g., 10.03 for Can Tho)\n",
    "- lon (float): Longitude of the location (e.g., 105.78 for Can Tho)\n",
    "- start (str): Start date in \"YYYY-MM-DD\" format\n",
    "- end (str): End date in \"YYYY-MM-DD\" format\n",
    "\n",
    "Output:\n",
    "- DataFrame: Contains daily temperature (°C) and precipitation (mm) data \n",
    "  for the specified location and time range, retrieved from the NASA POWER API.\n",
    "'''\n",
    "\n",
    "# Ensure numeric types before calling function (do this once)\n",
    "coord_data[\"latitude\"] = pd.to_numeric(coord_data[\"latitude\"], errors=\"coerce\")\n",
    "coord_data[\"longitude\"] = pd.to_numeric(coord_data[\"longitude\"], errors=\"coerce\")\n",
    "coord_data[\"population\"] = pd.to_numeric(coord_data[\"population\"], errors=\"coerce\").fillna(0).astype(int)\n",
    "\n",
    "def get_lon_lat_data(place_name, df=coord_data):\n",
    "    \"\"\"\n",
    "    Returns latitude, longitude, population, and geonameid for a given place name (case-insensitive).\n",
    "    If multiple matches exist, returns the top one with highest population.\n",
    "    \"\"\"\n",
    "    place_name = place_name.lower()\n",
    "\n",
    "    # Filter rows where name matches place_name (case-insensitive)\n",
    "    matches = df[df[\"name\"].str.lower() == place_name]\n",
    "\n",
    "    if matches.empty:\n",
    "        return None  # or raise Exception(\"Place not found\")\n",
    "\n",
    "    # Sort by population descending and pick top one\n",
    "    best_match = matches.sort_values(\"population\", ascending=False).iloc[0]\n",
    "\n",
    "    return (\n",
    "        float(best_match[\"latitude\"]),\n",
    "        float(best_match[\"longitude\"]),\n",
    "        int(best_match[\"population\"]),\n",
    "        best_match[\"geonameid\"]\n",
    "    )\n"
   ]
  },
  {
   "cell_type": "markdown",
   "metadata": {},
   "source": [
    "Import the current weather situation"
   ]
  },
  {
   "cell_type": "code",
   "execution_count": null,
   "metadata": {},
   "outputs": [],
   "source": [
    "def get_current_weather(city):\n",
    "    lat, lon, _, _ = get_lon_lat_data(city)  "
   ]
  },
  {
   "cell_type": "code",
   "execution_count": null,
   "metadata": {},
   "outputs": [
    {
     "name": "stdout",
     "output_type": "stream",
     "text": [
      "Error fetching data: wrong latitude\n",
      "Temperature: None°C\n",
      "Precipitation in last hour: None mm\n"
     ]
    }
   ],
   "source": [
    "def get_weather(city, api_key=api_key):\n",
    "    lon, lat, _, _ = get_lon_lat_data(city)\n",
    "    if lon is None or lat is None:\n",
    "        lon, lat = 106.660172, 10.762622  # Default to Ho Chi Minh City if not found\n",
    "    url = (\n",
    "        f\"https://api.openweathermap.org/data/2.5/weather?\"\n",
    "        f\"lat={lat}&lon={lon}&appid={api_key}&units=metric\"\n",
    "    )\n",
    "    response = requests.get(url)\n",
    "    data = response.json()\n",
    "\n",
    "    if response.status_code == 200:\n",
    "        temp = data['main']['temp']  # Temperature in Celsius\n",
    "        # Precipitation can be in 'rain' or 'snow' field, depends on weather\n",
    "        precipitation = 0\n",
    "        if 'rain' in data and '1h' in data['rain']:\n",
    "            precipitation = data['rain']['1h']  # mm of rain in last 1 hour\n",
    "        elif 'snow' in data and '1h' in data['snow']:\n",
    "            precipitation = data['snow']['1h']  # mm of snow in last 1 hour\n",
    "\n",
    "        return temp, precipitation\n",
    "    else:\n",
    "        print(f\"Error fetching data: {data.get('message', 'Unknown error')}\")\n",
    "        return None, None\n",
    "\n",
    "temperature, precipitation = get_weather(\"Ho Chi Minh City\", api_key)\n",
    "print(f\"Temperature: {temperature}°C\")\n",
    "print(f\"Precipitation in last hour: {precipitation} mm\")"
   ]
  },
  {
   "cell_type": "code",
   "execution_count": null,
   "metadata": {},
   "outputs": [
    {
     "name": "stdout",
     "output_type": "stream",
     "text": [
      "Average Temp Today: 30.47°C\n",
      "Total Precip Today: 5.31 mm\n"
     ]
    }
   ],
   "source": [
    "def get_weather_history_by_coords(city, api_key=api_key):\n",
    "    lat, lon, _, _ = get_lon_lat_data(city)\n",
    "    if lat is None or lon is None:\n",
    "        lat, lon = 10.762622, 106.660172  # Default to Ho Chi Minh City if not found\n",
    "\n",
    "    # Convert current time and start of the day to UNIX timestamps\n",
    "    end_time = int(time.time())  # now\n",
    "    start_time = int(datetime.now().replace(hour=0, minute=0, second=0, microsecond=0).timestamp())\n",
    "\n",
    "    url = (\n",
    "        f\"http://history.openweathermap.org/data/2.5/history/city?\"\n",
    "        f\"lat={lat}&lon={lon}&type=hour&start={start_time}&end={end_time}&appid={api_key}&units=metric\"\n",
    "    )\n",
    "\n",
    "    #print(\"Requesting:\", url)\n",
    "    response = requests.get(url)\n",
    "    data = response.json()\n",
    "\n",
    "    if response.status_code == 200 and 'list' in data:\n",
    "        temps = []\n",
    "        precips = []\n",
    "        for hour_data in data['list']:\n",
    "            temps.append(hour_data['main']['temp'])\n",
    "\n",
    "            precip = 0\n",
    "            if 'rain' in hour_data and '1h' in hour_data['rain']:\n",
    "                precip += hour_data['rain']['1h']\n",
    "            if 'snow' in hour_data and '1h' in hour_data['snow']:\n",
    "                precip += hour_data['snow']['1h']\n",
    "            precips.append(precip)\n",
    "\n",
    "        avg_temp = sum(temps) / len(temps) if temps else None\n",
    "        total_precip = sum(precips) if precips else 0\n",
    "\n",
    "        return avg_temp, total_precip\n",
    "    else:\n",
    "        print(\"Error:\", data.get(\"message\", \"Unknown error\"))\n",
    "        return None, None\n",
    "\n",
    "# Example: Ho Chi Minh City\n",
    "lat = 10.762622\n",
    "lon = 106.660172\n",
    "temperature, precipitation = get_weather_history_by_coords(\"Ho Chi Minh City\")\n",
    "print(f\"Average Temp Today: {temperature:.2f}°C\")\n",
    "print(f\"Total Precip Today: {precipitation:.2f} mm\")"
   ]
  },
  {
   "cell_type": "markdown",
   "metadata": {},
   "source": [
    "### Define the selected variables (change)"
   ]
  },
  {
   "cell_type": "markdown",
   "metadata": {},
   "source": [
    "Define the selected cities and periods, the can be changed and extended. Run all thereafter\n"
   ]
  },
  {
   "cell_type": "code",
   "execution_count": 14,
   "metadata": {},
   "outputs": [],
   "source": [
    "selected_cities = [\"Hanoi\", \"Western Region\", \"Ho Chi Minh City\", \"Red River Delta\"] #Selected cities as start # maybe 7 largest cities?\n",
    "selected_periods = [1, 3, 6]  # in months #other timeframes"
   ]
  },
  {
   "cell_type": "markdown",
   "metadata": {},
   "source": [
    "## Upload the Temp Data"
   ]
  },
  {
   "cell_type": "markdown",
   "metadata": {},
   "source": [
    "### Define functions"
   ]
  },
  {
   "cell_type": "code",
   "execution_count": 16,
   "metadata": {},
   "outputs": [],
   "source": [
    "def upload_to_github(filepath, repo_path):\n",
    "    import base64\n",
    "    import requests\n",
    "\n",
    "    with open(filepath, \"rb\") as f:\n",
    "        content = f.read()\n",
    "\n",
    "    b64_content = base64.b64encode(content).decode()\n",
    "\n",
    "    # Correctly use your variables here\n",
    "    url = f\"https://api.github.com/repos/{GITHUB_REPO}/contents/{repo_path}\"\n",
    "    headers = {\n",
    "        \"Authorization\": f\"token {GITHUB_TOKEN}\",\n",
    "        \"Accept\": \"application/vnd.github.v3+json\"\n",
    "    }\n",
    "\n",
    "    # Check if file exists\n",
    "    response = requests.get(url, headers=headers)\n",
    "\n",
    "    data = {\n",
    "        \"message\": f\"Upload plot {repo_path}\",\n",
    "        \"content\": b64_content,\n",
    "        \"branch\": GITHUB_BRANCH,\n",
    "    }\n",
    "\n",
    "    if response.status_code == 200:\n",
    "        data[\"sha\"] = response.json().get(\"sha\")\n",
    "    elif response.status_code != 404:\n",
    "        print(f\"GitHub API error: {response.status_code} {response.text}\")\n",
    "        return None\n",
    "\n",
    "    # Upload file\n",
    "    put_response = requests.put(url, headers=headers, json=data)\n",
    "\n",
    "    if put_response.status_code in [200, 201]:\n",
    "        print(f\"Successfully uploaded {repo_path}\")\n",
    "        raw_url = f\"https://raw.githubusercontent.com/{GITHUB_REPO}/{GITHUB_BRANCH}/{repo_path}\"\n",
    "        return raw_url\n",
    "    else:\n",
    "        print(f\"Failed to upload {repo_path}: {put_response.status_code} {put_response.text}\")\n",
    "        return None"
   ]
  },
  {
   "cell_type": "code",
   "execution_count": 48,
   "metadata": {},
   "outputs": [],
   "source": [
    "def fetch_and_upload(city, months):\n",
    "    # Get coordinates\n",
    "    coords = get_lon_lat_data(city)\n",
    "    if coords is None:\n",
    "        print(f\"Coordinates not found for {city}\")\n",
    "        return None\n",
    "    lat, lon, _, _ = coords\n",
    "\n",
    "    # Fetch NASA POWER weather data\n",
    "    df = get_nasa_power_weather(lat, lon, months=months)\n",
    "    if df.empty:\n",
    "        print(f\"No data for {city} for last {months} month(s)\")\n",
    "        return None\n",
    "    df = df[df[\"Temperature_C\"] > 0]\n",
    "    # Prepare plot\n",
    "    period_text = f\"{months}_months\"\n",
    "    plt.figure(figsize=(10, 5))\n",
    "    plt.plot(df.index, df[\"Temperature_C\"], label=\"Temperature (°C)\", color='tab:red')\n",
    "    plt.title(f\"Daily Temperature in {city} ({period_text})\")\n",
    "    plt.xlabel(\"Date\")\n",
    "    plt.ylabel(\"Temperature (°C)\")\n",
    "    plt.grid(True)\n",
    "    plt.tight_layout()\n",
    "\n",
    "    # Filename and save path\n",
    "    filename = f\"forecast_graph_{city.replace(' ', '_').lower()}_{period_text.replace(' ', '_')}.png\"\n",
    "    current_dir = os.getcwd()\n",
    "    local_path = os.path.join(current_dir, filename)\n",
    "    plt.savefig(local_path, dpi=300)\n",
    "    plt.close()\n",
    "    # Upload to GitHub repo in graphs/ folder\n",
    "    repo_path = f\"graphs/{filename}\"\n",
    "    print(repo_path)\n",
    "    url = upload_to_github(local_path, repo_path)\n",
    "\n",
    "    # Optional: delete local file if you want to keep clean\n",
    "    os.remove(local_path)\n",
    "\n",
    "    return url\n"
   ]
  },
  {
   "cell_type": "markdown",
   "metadata": {},
   "source": [
    "### Generate data and upload to Github"
   ]
  },
  {
   "cell_type": "code",
   "execution_count": 18,
   "metadata": {},
   "outputs": [
    {
     "name": "stdout",
     "output_type": "stream",
     "text": [
      "Processing Hanoi for 1 month(s)...\n",
      "graphs/forecast_graph_hanoi_1_months.png\n",
      "Successfully uploaded graphs/forecast_graph_hanoi_1_months.png\n",
      "Processing Hanoi for 3 month(s)...\n",
      "graphs/forecast_graph_hanoi_3_months.png\n",
      "Successfully uploaded graphs/forecast_graph_hanoi_3_months.png\n",
      "Processing Hanoi for 6 month(s)...\n",
      "graphs/forecast_graph_hanoi_6_months.png\n",
      "Successfully uploaded graphs/forecast_graph_hanoi_6_months.png\n",
      "Processing Western Region for 1 month(s)...\n",
      "graphs/forecast_graph_western_region_1_months.png\n",
      "Successfully uploaded graphs/forecast_graph_western_region_1_months.png\n",
      "Processing Western Region for 3 month(s)...\n",
      "graphs/forecast_graph_western_region_3_months.png\n",
      "Successfully uploaded graphs/forecast_graph_western_region_3_months.png\n",
      "Processing Western Region for 6 month(s)...\n",
      "graphs/forecast_graph_western_region_6_months.png\n",
      "Successfully uploaded graphs/forecast_graph_western_region_6_months.png\n",
      "Processing Ho Chi Minh City for 1 month(s)...\n",
      "graphs/forecast_graph_ho_chi_minh_city_1_months.png\n",
      "Successfully uploaded graphs/forecast_graph_ho_chi_minh_city_1_months.png\n",
      "Processing Ho Chi Minh City for 3 month(s)...\n",
      "graphs/forecast_graph_ho_chi_minh_city_3_months.png\n",
      "Successfully uploaded graphs/forecast_graph_ho_chi_minh_city_3_months.png\n",
      "Processing Ho Chi Minh City for 6 month(s)...\n",
      "graphs/forecast_graph_ho_chi_minh_city_6_months.png\n",
      "Successfully uploaded graphs/forecast_graph_ho_chi_minh_city_6_months.png\n",
      "Processing Red River Delta for 1 month(s)...\n",
      "graphs/forecast_graph_red_river_delta_1_months.png\n",
      "Successfully uploaded graphs/forecast_graph_red_river_delta_1_months.png\n",
      "Processing Red River Delta for 3 month(s)...\n",
      "graphs/forecast_graph_red_river_delta_3_months.png\n",
      "Successfully uploaded graphs/forecast_graph_red_river_delta_3_months.png\n",
      "Processing Red River Delta for 6 month(s)...\n",
      "graphs/forecast_graph_red_river_delta_6_months.png\n",
      "Successfully uploaded graphs/forecast_graph_red_river_delta_6_months.png\n"
     ]
    }
   ],
   "source": [
    "# Run for all cities and periods\n",
    "for city in selected_cities:\n",
    "    for months in selected_periods:\n",
    "        print(f\"Processing {city} for {months} month(s)...\")\n",
    "        uploaded_url = fetch_and_upload(city, months)"
   ]
  },
  {
   "cell_type": "code",
   "execution_count": 19,
   "metadata": {},
   "outputs": [
    {
     "name": "stdout",
     "output_type": "stream",
     "text": [
      "Successfully uploaded climate_data/weather_data_today.csv\n"
     ]
    }
   ],
   "source": [
    "# Collect weather data\n",
    "weather_data_today = []\n",
    "\n",
    "for city in selected_cities:\n",
    "        temp, precip = get_weather_history_by_coords(city)\n",
    "        weather_data_today.append({\n",
    "            \"city\": city,\n",
    "            \"temperature\": temp,\n",
    "            \"precipitation\": precip\n",
    "        })\n",
    "folder = \"climate_data\"\n",
    "os.makedirs(folder, exist_ok=True)\n",
    "\n",
    "weather_data_today = pd.DataFrame(weather_data_today)\n",
    "\n",
    "save_file_path = os.path.join(folder, \"weather_data_today.csv\")\n",
    "weather_data_today.to_csv(save_file_path, index=False)\n",
    "\n",
    "# Upload to GitHub\n",
    "upload_to_github(save_file_path, \"climate_data/weather_data_today.csv\")\n",
    "\n",
    "# Clean up\n",
    "os.remove(save_file_path)\n",
    "if not os.listdir(folder):\n",
    "    os.rmdir(folder)"
   ]
  },
  {
   "cell_type": "markdown",
   "metadata": {},
   "source": [
    "### Scalability folder updates"
   ]
  },
  {
   "cell_type": "markdown",
   "metadata": {},
   "source": [
    "Upload the list selected cities to github"
   ]
  },
  {
   "cell_type": "code",
   "execution_count": null,
   "metadata": {},
   "outputs": [
    {
     "name": "stdout",
     "output_type": "stream",
     "text": [
      "Successfully uploaded scalability/selected_cities.txt\n"
     ]
    }
   ],
   "source": [
    "# Ensure the folder exists\n",
    "folder = \"scalability\"\n",
    "os.makedirs(folder, exist_ok=True)\n",
    "\n",
    "# Write the cities list to a file\n",
    "save_file_path = os.path.join(folder, \"selected_cities.txt\")\n",
    "with open(save_file_path, \"w\") as f:\n",
    "    f.write(str(selected_cities))  # Stored as string representation of list\n",
    "\n",
    "upload_to_github(save_file_path, \"scalability/selected_cities.txt\")    \n",
    "\n",
    "os.remove(save_file_path)\n",
    "\n",
    "# Optionally delete the folder if empty\n",
    "if not os.listdir(folder):\n",
    "    os.rmdir(folder)"
   ]
  },
  {
   "cell_type": "markdown",
   "metadata": {},
   "source": [
    "Upload the selected periods to Github"
   ]
  },
  {
   "cell_type": "code",
   "execution_count": null,
   "metadata": {},
   "outputs": [
    {
     "name": "stdout",
     "output_type": "stream",
     "text": [
      "Successfully uploaded scalability/selected_periods.txt\n"
     ]
    }
   ],
   "source": [
    "# Ensure the folder exists\n",
    "folder = \"scalability\"\n",
    "os.makedirs(folder, exist_ok=True)\n",
    "\n",
    "# Write the cities list to a file\n",
    "save_file_path = os.path.join(folder, \"selected_periods.txt\")\n",
    "with open(save_file_path, \"w\") as f:\n",
    "    f.write(str(selected_periods))  # Stored as string representation of list\n",
    "\n",
    "upload_to_github(save_file_path, \"scalability/selected_periods.txt\")    \n",
    "\n",
    "os.remove(save_file_path)\n",
    "\n",
    "# Optionally delete the folder if empty\n",
    "if not os.listdir(folder):\n",
    "    os.rmdir(folder)"
   ]
  },
  {
   "cell_type": "markdown",
   "metadata": {},
   "source": [
    "## Crop information "
   ]
  },
  {
   "cell_type": "markdown",
   "metadata": {},
   "source": [
    "Make the crop selection (scalable)"
   ]
  },
  {
   "cell_type": "code",
   "execution_count": 21,
   "metadata": {},
   "outputs": [],
   "source": [
    "selected_crops = [\"Rice\", \"Maize\", \"Sugar cane\"]"
   ]
  },
  {
   "cell_type": "markdown",
   "metadata": {},
   "source": [
    "extend the folder scalability"
   ]
  },
  {
   "cell_type": "code",
   "execution_count": 23,
   "metadata": {},
   "outputs": [
    {
     "name": "stdout",
     "output_type": "stream",
     "text": [
      "Successfully uploaded scalability/selected_crops.txt\n"
     ]
    }
   ],
   "source": [
    "# Ensure the folder exists\n",
    "folder = \"scalability\"\n",
    "os.makedirs(folder, exist_ok=True)\n",
    "\n",
    "# Write the cities list to a file\n",
    "save_file_path = os.path.join(folder, \"selected_crops.txt\")\n",
    "with open(save_file_path, \"w\") as f:\n",
    "    f.write(str(selected_crops))  # Stored as string representation of list\n",
    "\n",
    "upload_to_github(save_file_path, \"scalability/selected_crops.txt\")    \n",
    "\n",
    "os.remove(save_file_path)\n",
    "\n",
    "# Optionally delete the folder if empty\n",
    "if not os.listdir(folder):\n",
    "    os.rmdir(folder)"
   ]
  },
  {
   "cell_type": "markdown",
   "metadata": {},
   "source": [
    "## Crop prices"
   ]
  },
  {
   "cell_type": "code",
   "execution_count": 24,
   "metadata": {},
   "outputs": [
    {
     "name": "stdout",
     "output_type": "stream",
     "text": [
      "Successfully uploaded price_data/crop_prices.csv\n"
     ]
    }
   ],
   "source": [
    "CropPrices = np.random.lognormal(mean=3, sigma=1, size=len(selected_crops))\n",
    "\n",
    "# Create DataFrame\n",
    "crop_prices = pd.DataFrame({\n",
    "    \"crop\": selected_crops,\n",
    "    \"price\": CropPrices\n",
    "})\n",
    "\n",
    "# Save to CSV\n",
    "folder = \"price_data\"\n",
    "os.makedirs(folder, exist_ok=True)\n",
    "\n",
    "\n",
    "save_file_path = os.path.join(folder, \"crop_prices.csv\")\n",
    "crop_prices.to_csv(save_file_path, index=False)\n",
    "\n",
    "# Upload to GitHub\n",
    "upload_to_github(save_file_path, \"price_data/crop_prices.csv\")\n",
    "\n",
    "# Clean up\n",
    "os.remove(save_file_path)\n",
    "if not os.listdir(folder):\n",
    "    os.rmdir(folder)"
   ]
  },
  {
   "cell_type": "markdown",
   "metadata": {},
   "source": [
    "#### Historical prices for all crops"
   ]
  },
  {
   "cell_type": "code",
   "execution_count": 25,
   "metadata": {},
   "outputs": [
    {
     "data": {
      "text/plain": [
       "'\\n    print(f\"Fetching price data for {crop}...\")\\n    # Implement web scraping logic here to fetch the price data for each crop\\n    # For example, you can use BeautifulSoup or Scrapy to scrape a website\\n    # and then save the data in a similar DataFrame format as above.\\nperiod = 6 #months\\nend_date = datetime.today()\\nstart_date = end_date - relativedelta(months=period)\\n\\n\\nfor crop in selected crops:\\n    fetch_and_upload(crop, start_date, end_date)   \\n    dict = {date: price for date} \\n    save dict as \\n    f\"historical_prices_{crop}.csv\"\\n'"
      ]
     },
     "execution_count": 25,
     "metadata": {},
     "output_type": "execute_result"
    }
   ],
   "source": [
    "# webscrape \n",
    "\n",
    "'''\n",
    "    print(f\"Fetching price data for {crop}...\")\n",
    "    # Implement web scraping logic here to fetch the price data for each crop\n",
    "    # For example, you can use BeautifulSoup or Scrapy to scrape a website\n",
    "    # and then save the data in a similar DataFrame format as above.\n",
    "period = 6 #months\n",
    "end_date = datetime.today()\n",
    "start_date = end_date - relativedelta(months=period)\n",
    "\n",
    "\n",
    "for crop in selected crops:\n",
    "    fetch_and_upload(crop, start_date, end_date)   \n",
    "    dict = {date: price for date} \n",
    "    save dict as \n",
    "    f\"historical_prices_{crop}.csv\"\n",
    "'''\n"
   ]
  },
  {
   "cell_type": "markdown",
   "metadata": {},
   "source": [
    "Place Holder, AR(1) price simulation"
   ]
  },
  {
   "cell_type": "code",
   "execution_count": null,
   "metadata": {},
   "outputs": [
    {
     "name": "stdout",
     "output_type": "stream",
     "text": [
      "Successfully uploaded price_data/price_plot_rice.png\n",
      "Plot uploaded for Rice\n",
      "Successfully uploaded price_data/price_plot_maize.png\n",
      "Plot uploaded for Maize\n",
      "Successfully uploaded price_data/price_plot_sugar_cane.png\n",
      "Plot uploaded for Sugar cane\n"
     ]
    }
   ],
   "source": [
    "\n",
    "def simulate_and_upload_prices(crop, period=6, end_date=datetime.today(), initial_price=np.random.lognormal(mean=3, sigma=0.1, size=1)):\n",
    "    \"\"\"\n",
    "    Simulate daily prices over the given date range with an AR(1)-like process:\n",
    "    price_t = price_{t-1} + Normal(0,1)\n",
    "    Save to CSV, upload to GitHub, then remove local file.\n",
    "    \n",
    "    crop: str, crop name\n",
    "    start_date: datetime, simulation start\n",
    "    end_date: datetime, simulation end\n",
    "    initial_price: float, starting price at start_date\n",
    "    upload_func: function, handles uploading file to GitHub, takes (local_path, remote_path)\n",
    "    \"\"\"\n",
    "    start_date = end_date - relativedelta(months=period)\n",
    "\n",
    "    # Create daily date range\n",
    "    dates = pd.date_range(start=start_date, end=end_date, freq='D')\n",
    "    n_days = len(dates)\n",
    "    \n",
    "    # Simulate daily price changes (normal noise)\n",
    "    noise = np.random.normal(loc=0, scale=0.1, size=n_days)\n",
    "    \n",
    "    # Create price series as cumulative sum of noise starting from initial price\n",
    "    prices = initial_price + np.cumsum(noise)\n",
    "    \n",
    "    # Make sure prices are positive (optional)\n",
    "    prices = np.clip(prices, a_min=0.01, a_max=None)\n",
    "    \n",
    "    # Plot prices\n",
    "    plt.figure(figsize=(10, 6))\n",
    "    plt.plot(dates, prices, label=f\"{crop} Price\")\n",
    "    plt.title(f\"Simulated Daily Prices for {crop} ({period} months)\")\n",
    "    plt.xlabel(\"Date\")\n",
    "    plt.ylabel(\"Price\")\n",
    "    plt.legend()\n",
    "    plt.grid(True)\n",
    "\n",
    "    # Save plot as PNG\n",
    "    folder = \"price_plots\"\n",
    "    os.makedirs(folder, exist_ok=True)\n",
    "    plot_file = f\"price_plot_{crop.lower().replace(' ', '_')}.png\"\n",
    "    plot_path = os.path.join(folder, plot_file)\n",
    "    plt.savefig(plot_path)\n",
    "    plt.close()\n",
    "\n",
    "    # Upload plot image to GitHub\n",
    "    upload_to_github(plot_path, f\"price_data/{plot_file}\")\n",
    "\n",
    "    # Clean up local file\n",
    "    os.remove(plot_path)\n",
    "    if not os.listdir(folder):\n",
    "        os.rmdir(folder)\n",
    "\n",
    "    print(f\"Plot uploaded for {crop}\")\n",
    "\n",
    "# Define simulation period (6 months)\n",
    "end_date = datetime.today()\n",
    "period = 6  # months\n",
    "\n",
    "# Example selected crops and their initial prices (from your cropPrices dict or elsewhere)\n",
    "initial_price = dict(zip(crop_prices[\"crop\"], crop_prices[\"price\"]))\n",
    "\n",
    "for crop in selected_crops:\n",
    "    simulate_and_upload_prices(crop, period, end_date, initial_price[crop])"
   ]
  },
  {
   "cell_type": "markdown",
   "metadata": {},
   "source": [
    "## Crop Advice Info"
   ]
  },
  {
   "cell_type": "markdown",
   "metadata": {},
   "source": [
    "### Crop advice uploads"
   ]
  },
  {
   "cell_type": "markdown",
   "metadata": {},
   "source": [
    "Upload function"
   ]
  },
  {
   "cell_type": "code",
   "execution_count": null,
   "metadata": {},
   "outputs": [],
   "source": [
    "def text_upload(crop, type, text):\n",
    "    \"\"\"\n",
    "    Uploads text data to GitHub in the specified format.\n",
    "    \n",
    "    crop: str, crop name\n",
    "    type: str, type of text data (e.g., 'description', 'instructions')\n",
    "    text: str, content to upload\n",
    "\n",
    "    format:\n",
    "    advice_{type}_{crop}.txt\n",
    "    \"\"\"\n",
    "    folder = \"text_data\"\n",
    "    os.makedirs(folder, exist_ok=True)\n",
    "    \n",
    "    filename = f\"advice_{type}_{crop.lower().replace(' ', '_')}.txt\"\n",
    "    file_path = os.path.join(folder, filename)\n",
    "    \n",
    "    with open(file_path, \"w\", encoding=\"utf-8\") as f:\n",
    "        f.write(text)\n",
    "    \n",
    "    upload_to_github(file_path, f\"texts/{filename}\")\n",
    "    \n",
    "    # Clean up local file\n",
    "    os.remove(file_path)\n",
    "\n",
    "    if not os.listdir(folder):\n",
    "        os.rmdir(folder)"
   ]
  },
  {
   "cell_type": "markdown",
   "metadata": {},
   "source": [
    "### Cultivation tips"
   ]
  },
  {
   "cell_type": "code",
   "execution_count": null,
   "metadata": {},
   "outputs": [],
   "source": [
    "text_upload(\n",
    "    \"Rice\",\n",
    "    \"cul\", \n",
    "    \"Welcome to the basic rice farming guide: \\n\"\n",
    "    \"\\n\"\n",
    "    \"This guide gives simple steps to help you grow rice successfully, even in challenging conditions. \\n\"\n",
    "    \"\\n\"\n",
    "    \"1. Choose Good Seeds \\n\"\n",
    "    \"- Use clean and healthy seeds. \\n\"\n",
    "    \"- Get them from trusted sources to ensure strong plants. \\n\"\n",
    "    \"\\n\"\n",
    "    \"2. Prepare Your Land \\n\"\n",
    "    \"- Level your field so water spreads evenly. \\n\"\n",
    "    \"- Remove weeds and leftover plants from the last season. \\n\"\n",
    "    \"- Use compost or animal manure to improve the soil. \\n\"\n",
    "    \"\\n\"\n",
    "    \"3. Plant at the Right Time \\n\"\n",
    "    \"- Transplant rice seedlings 20–25 days after sowing. \\n\"\n",
    "    \"\\n\"\n",
    "    \"4. Use Water Wisely \\n\"\n",
    "    \"- Keep water 2–5 cm deep in the field while the rice is growing. \\n\"\n",
    "    \"\\n\"\n",
    "    \"5. Use Fertiliser Correctly \\n\"\n",
    "    \"- Apply fertiliser when rice is growing and when grains start forming. \\n\"\n",
    "    \"\\n\"\n",
    "    \"6. Harvest at the Right Time \\n\"\n",
    "    \"- Harvest when about 85 percent of the grains are yellow. \\n\"\n",
    "    \"- Do not wait too long—grains may fall to the ground. \\n\"\n",
    "    \"\\n\"\n",
    "    \"Tip: If your field has salty water (common in southern Vietnam), use salt-tolerant rice varieties. \\n\"\n",
    "    )"
   ]
  },
  {
   "cell_type": "code",
   "execution_count": 39,
   "metadata": {},
   "outputs": [
    {
     "name": "stdout",
     "output_type": "stream",
     "text": [
      "Successfully uploaded texts/advice_cul_maize.txt\n"
     ]
    }
   ],
   "source": [
    "text_upload(\n",
    "    \"Maize\",\n",
    "    \"cul\",\n",
    "    \"Welcome to the basic maize farming guide: \\n\"\n",
    "    \"\\n\"\n",
    "    \"This guide helps you grow healthy maize plants and improve your harvest. \\n\"\n",
    "    \"\\n\"\n",
    "    \"1. Choose Good Seeds \\n\"\n",
    "    \"- Select high-yield and drought-tolerant maize varieties. \\n\"\n",
    "    \"- Use certified seeds from trusted suppliers. \\n\"\n",
    "    \"\\n\"\n",
    "    \"2. Prepare the Land \\n\"\n",
    "    \"- Plough the land well and break large soil clumps. \\n\"\n",
    "    \"- Add compost or manure before planting to enrich the soil. \\n\"\n",
    "    \"\\n\"\n",
    "    \"3. Plant at the Right Time \\n\"\n",
    "    \"- Plant just before or at the start of the rainy season. \\n\"\n",
    "    \"- Leave 25–30 cm between plants and 70–90 cm between rows. \\n\"\n",
    "    \"\\n\"\n",
    "    \"4. Use Water Wisely \\n\"\n",
    "    \"- Maize needs more water during flowering and grain-filling stages. \\n\"\n",
    "    \"- Avoid waterlogging—ensure good drainage. \\n\"\n",
    "    \"\\n\"\n",
    "    \"5. Use Fertiliser Correctly \\n\"\n",
    "    \"- Apply nitrogen-rich fertiliser when plants are knee-high. \\n\"\n",
    "    \"- Apply again when tassels appear. \\n\"\n",
    "    \"\\n\"\n",
    "    \"6. Harvest at the Right Time \\n\"\n",
    "    \"- Harvest when cobs are dry and kernels are hard (husks turn brown). \\n\"\n",
    "    \"- Dry the maize properly to avoid mold. \\n\"\n",
    "    )"
   ]
  },
  {
   "cell_type": "code",
   "execution_count": 40,
   "metadata": {},
   "outputs": [
    {
     "name": "stdout",
     "output_type": "stream",
     "text": [
      "Successfully uploaded texts/advice_cul_sugarcane.txt\n"
     ]
    }
   ],
   "source": [
    "text_upload(\n",
    "    \"Sugarcane\",\n",
    "    \"cul\",\n",
    "    \"Welcome to the basic sugarcane farming guide: \\n\"\n",
    "    \"\\n\"\n",
    "    \"This guide gives steps to help you grow healthy sugarcane and increase profits. \\n\"\n",
    "    \"\\n\"\n",
    "    \"1. Choose Good Planting Material \\n\"\n",
    "    \"- Use healthy, disease-free cane stalks (2–3 buds each). \\n\"\n",
    "    \"- Choose varieties suited to your region. \\n\"\n",
    "    \"\\n\"\n",
    "    \"2. Prepare the Land \\n\"\n",
    "    \"- Deep plough the field to loosen the soil. \\n\"\n",
    "    \"- Add compost or manure to enrich the land. \\n\"\n",
    "    \"- Make ridges or furrows for planting. \\n\"\n",
    "    \"\\n\"\n",
    "    \"3. Plant at the Right Time \\n\"\n",
    "    \"- Best time: end of dry season or start of rainy season. \\n\"\n",
    "    \"- Place cane stalks horizontally in furrows and cover with soil. \\n\"\n",
    "    \"\\n\"\n",
    "    \"4. Use Water Wisely \\n\"\n",
    "    \"- Keep soil moist, especially in the first 60–90 days. \\n\"\n",
    "    \"- Use furrow irrigation if available; avoid waterlogging. \\n\"\n",
    "    \"\\n\"\n",
    "    \"5. Use Fertiliser Correctly \\n\"\n",
    "    \"- Apply nitrogen and potash 30–45 days after planting. \\n\"\n",
    "    \"- Repeat after 3 months. \\n\"\n",
    "    \"\\n\"\n",
    "    \"6. Harvest at the Right Time \\n\"\n",
    "    \"- Harvest 10–12 months after planting (depending on variety). \\n\"\n",
    "    \"- Look for dry leaves, swollen internodes, and sweet juice. \\n\"\n",
    "    )"
   ]
  },
  {
   "cell_type": "markdown",
   "metadata": {},
   "source": [
    "### PnD advice "
   ]
  },
  {
   "cell_type": "code",
   "execution_count": 41,
   "metadata": {},
   "outputs": [
    {
     "name": "stdout",
     "output_type": "stream",
     "text": [
      "Successfully uploaded texts/advice_pnd_rice.txt\n"
     ]
    }
   ],
   "source": [
    "\n",
    "text_upload(\n",
    "    \"Rice\",\n",
    "    \"pnd\",\n",
    "    \"To protect your rice from pests and diseases, remember: \\n\"\n",
    "    \"\\n\"\n",
    "    \"- Watch for insects like brown planthopper and diseases like leaf spots. \\n\"\n",
    "    \"- Use natural methods or approved chemicals to control pests safely. \\n\"\n",
    "    \"- Check your fields often for discolored spots — early detection helps prevent spread. \\n\"\n",
    "    \"- Avoid using too much fertiliser, especially nitrogen, as it can increase pests. \\n\"\n",
    "    \"- After harvest, burn or remove diseased plant debris to stop pests from returning. \\n\"\n",
    "    )\n"
   ]
  },
  {
   "cell_type": "code",
   "execution_count": 42,
   "metadata": {},
   "outputs": [
    {
     "name": "stdout",
     "output_type": "stream",
     "text": [
      "Successfully uploaded texts/advice_pnd_maize.txt\n"
     ]
    }
   ],
   "source": [
    "text_upload(\n",
    "    \"Maize\",\n",
    "    \"pnd\",\n",
    "    \"To protect your maize from pests and diseases, follow these tips: \\n\"\n",
    "    \"\\n\"\n",
    "    \"- Look out for pests like stem borers, armyworms, and aphids. \\n\"\n",
    "    \"- Watch for diseases such as leaf blight or rust spots. \\n\"\n",
    "    \"- Use natural predators, crop rotation, or safe pesticides to control pests. \\n\"\n",
    "    \"- Inspect your crop regularly for damaged leaves or unusual spots. \\n\"\n",
    "    \"- Avoid over-fertilizing with nitrogen, which can attract pests. \\n\"\n",
    "    \"- Remove or destroy infected plants and crop residues after harvest. \\n\"\n",
    "    )"
   ]
  },
  {
   "cell_type": "code",
   "execution_count": 43,
   "metadata": {},
   "outputs": [
    {
     "name": "stdout",
     "output_type": "stream",
     "text": [
      "Successfully uploaded texts/advice_pnd_sugarcane.txt\n"
     ]
    }
   ],
   "source": [
    "text_upload(\n",
    "    \"Sugarcane\",\n",
    "    \"pnd\",\n",
    "    \"To keep sugarcane healthy and free from pests and diseases: \\n\"\n",
    "    \"\\n\"\n",
    "    \"- Watch for pests like sugarcane borers and aphids. \\n\"\n",
    "    \"- Look for diseases such as red rot or leaf scald (discolored or dead patches). \\n\"\n",
    "    \"- Use natural control methods or recommended pesticides carefully. \\n\"\n",
    "    \"- Check fields often for signs of pest damage or disease symptoms. \\n\"\n",
    "    \"- Avoid excess nitrogen fertiliser, which can encourage pest problems. \\n\"\n",
    "    \"- After harvest, remove or burn diseased stalks and plant debris. \\n\"\n",
    "    )"
   ]
  },
  {
   "cell_type": "markdown",
   "metadata": {},
   "source": [
    "## Weather Advice"
   ]
  },
  {
   "cell_type": "markdown",
   "metadata": {},
   "source": [
    "#### Weather advice rain"
   ]
  },
  {
   "cell_type": "markdown",
   "metadata": {},
   "source": [
    "advice under avg rain"
   ]
  },
  {
   "cell_type": "code",
   "execution_count": null,
   "metadata": {},
   "outputs": [],
   "source": [
    "text_upload(\n",
    "    \"rain0\",\n",
    "    \"weather\",\n",
    "    \"\"\n",
    "    )"
   ]
  },
  {
   "cell_type": "markdown",
   "metadata": {},
   "source": [
    "advice avg rain\n"
   ]
  },
  {
   "cell_type": "code",
   "execution_count": null,
   "metadata": {},
   "outputs": [],
   "source": [
    "text_upload(\n",
    "    \"rain1\",\n",
    "    \"weather\",\n",
    "    \"\"\n",
    "    )"
   ]
  },
  {
   "cell_type": "markdown",
   "metadata": {},
   "source": [
    "advice above avg rain "
   ]
  },
  {
   "cell_type": "code",
   "execution_count": null,
   "metadata": {},
   "outputs": [],
   "source": [
    "text_upload(\n",
    "    \"rain2\",\n",
    "    \"weather\",\n",
    "    \"\"\n",
    "    )"
   ]
  },
  {
   "cell_type": "markdown",
   "metadata": {},
   "source": [
    "#### Weather wind advice"
   ]
  },
  {
   "cell_type": "markdown",
   "metadata": {},
   "source": [
    "advice for under avg wind"
   ]
  },
  {
   "cell_type": "code",
   "execution_count": null,
   "metadata": {},
   "outputs": [],
   "source": [
    "text_upload(\n",
    "    \"wind0\",\n",
    "    \"weather\",\n",
    "    \"\"\n",
    "    )"
   ]
  },
  {
   "cell_type": "markdown",
   "metadata": {},
   "source": [
    "advice for avg wind\n"
   ]
  },
  {
   "cell_type": "code",
   "execution_count": null,
   "metadata": {},
   "outputs": [],
   "source": [
    "text_upload(\n",
    "    \"wind1\",\n",
    "    \"weather\",\n",
    "    \"\"\n",
    "    )"
   ]
  },
  {
   "cell_type": "markdown",
   "metadata": {},
   "source": [
    "advice for above avg wind"
   ]
  },
  {
   "cell_type": "code",
   "execution_count": null,
   "metadata": {},
   "outputs": [],
   "source": [
    "text_upload(\n",
    "    \"wind2\",\n",
    "    \"weather\",\n",
    "    \"\"\n",
    "    )"
   ]
  },
  {
   "cell_type": "markdown",
   "metadata": {},
   "source": [
    "#### Weather temp advice"
   ]
  },
  {
   "cell_type": "markdown",
   "metadata": {},
   "source": [
    "advice for under avg weather temp"
   ]
  },
  {
   "cell_type": "code",
   "execution_count": null,
   "metadata": {},
   "outputs": [],
   "source": [
    "text_upload(\n",
    "    \"temp0\",\n",
    "    \"weather\",\n",
    "    \"\"\n",
    "    )"
   ]
  },
  {
   "cell_type": "markdown",
   "metadata": {},
   "source": [
    "advice for avg weather temp"
   ]
  },
  {
   "cell_type": "code",
   "execution_count": null,
   "metadata": {},
   "outputs": [],
   "source": [
    "text_upload(\n",
    "    \"temp1\",\n",
    "    \"weather\",\n",
    "    \"\"\n",
    "    )"
   ]
  },
  {
   "cell_type": "markdown",
   "metadata": {},
   "source": [
    "advice for above avg weather temp"
   ]
  },
  {
   "cell_type": "code",
   "execution_count": null,
   "metadata": {},
   "outputs": [],
   "source": [
    "text_upload(\n",
    "    \"temp2\",\n",
    "    \"weather\",\n",
    "    \"\"\n",
    "    )"
   ]
  },
  {
   "cell_type": "markdown",
   "metadata": {},
   "source": [
    "### Upload the GAP AND SBS, (Revise)"
   ]
  },
  {
   "cell_type": "markdown",
   "metadata": {},
   "source": [
    "Do the text of step by step, #send a picture if not data saving, for illustrations. \n"
   ]
  },
  {
   "cell_type": "code",
   "execution_count": null,
   "metadata": {},
   "outputs": [
    {
     "name": "stdout",
     "output_type": "stream",
     "text": [
      "Successfully uploaded texts/advice_guide_sbs.txt\n"
     ]
    }
   ],
   "source": [
    "text_upload(\n",
    "    \"SBS\",\n",
    "    \"guide\",\n",
    "    \"Welcome to the information of a step by step guide for conservation agriculture \\n\"\n",
    "    \"\\n\"\n",
    "    \"Step 1: Field Lay Out \\n\"\n",
    "    \"All crop rows should be 65 cm apart from each other, and the distance between the crops in each row should be 75 cm.\\n\"\n",
    "    \"If the area is dry, increase the row spacing to 78 cm and crop spacing to 90 cm.\\n\"\n",
    "    \"To do this effectively, use a piece of rope for the measurements. \\n\"\n",
    "    \"\\nStep 2: The Baisins \"\n",
    "    \"\\n\"\n",
    "    \"The baisins should be 15 cm long, 8 cm wide and 10 cm deep \\n\"\n",
    "    \"\\n Step 3: Fertiliser and Compost \\n\"\n",
    "    \"The fertiliser should be put in first, under the soil, use a 2 caps of a soda bottle of fertiliser per baisin. \\n\"\n",
    "    \"Then add compost, use a 2 hands of compost per baisin. \\n\"\n",
    ") \n",
    "'''\n",
    "calculations for a more efficient grid structure\n",
    "(75**2-37.5**2)**.5 = 64.9519052838329\n",
    "\n",
    "(90**2-45**2)**.5 = 77.94228634059948\n",
    "'''"
   ]
  },
  {
   "cell_type": "markdown",
   "metadata": {},
   "source": [
    "The three practices"
   ]
  },
  {
   "cell_type": "code",
   "execution_count": 35,
   "metadata": {},
   "outputs": [
    {
     "name": "stdout",
     "output_type": "stream",
     "text": [
      "Successfully uploaded texts/advice_guide_3pgap.txt\n"
     ]
    }
   ],
   "source": [
    "text_upload(\n",
    "    \"3PGAP\", \n",
    "    \"guide\", \n",
    "    \"Welcome to the information page of the three main principles of conservation agriculture: \\n\"\n",
    "    \"\\n\" \n",
    "    \"Principle 1: Minimal soil disturbance \\n\"\n",
    "    \"This means that the soil should not be ploughed or tilled, as this can damage the soil structure and lead to erosion. \\n\"\n",
    "    \"The advantages are: \\n\"\n",
    "    \"protectsion against wind and erosion: \\n\"\n",
    "    \"Improves the quality of the orgainic matter in the soil: \\n\"\n",
    "    \"Decreases the costs in the long term: \\n\"\n",
    "    \"Improves the water take up and retention. \\n\"\n",
    "    \"The fertiliser becomes more effective. \\n\"\n",
    "    \"\\n\"\n",
    "    \"Principle 2: Permanent soil cover with organic matters \\n\"\n",
    "    \"This means that the soil is covered with organic matter, such as crop residues or cover crops, to protect it from erosion and improve its fertility. \\n\"\n",
    "    \"Advantages: \\n\"\n",
    "    \"Protection from erosion from wind and water: \\n\"\n",
    "    \"It recycles the use of nutrients: \\n\"\n",
    "    \"Suppresses the growth of weeds (unwanted plants): \\n\"\n",
    "    \"Improves accumalation of organic matter, further enhancing the effect: \\n\"\n",
    "    \"\\n\"\n",
    "    \"Principle 3: Crop rotation and intercropping \\n\"\n",
    "    \"This means that different crops are grown in the same field after each other, to improve soil fertility and reduce pests and diseases. \\n\"\n",
    "    \"The effect is the best if the crops are different families, such as legumes and cereals. \\n\"\n",
    "    \"Advantages: \\n\"\n",
    "    \"Improves the soil fertility and structure: \\n\"\n",
    "    \"Reduces the risk of pests and diseases: \\n\"\n",
    "    \"Increases the water use: \\n\"\n",
    "    \"\\n\"\n",
    "    \"Disclaimer: These materials have been based on the materials commissioned by FAO Lesotho and the Ministry of Agriculture and Food Security with financial support \" \\\n",
    "    \"from the European Commission Humaitarian Aid and Civil Protection Directorate (ECHO) and OFDA in 2012. These materials were developed in coordination with, and endorsed by, \" \\\n",
    "    \"the Lesotho Conservation Agriculture National Task Force (LCANTF). Furthermore, the information is processed with the help of a LLM Github Copilot, which is not a human expert. \" \\\n",
    "\n",
    "    )"
   ]
  },
  {
   "cell_type": "markdown",
   "metadata": {},
   "source": [
    "Introduction to conservation agriculture main menu\n"
   ]
  },
  {
   "cell_type": "code",
   "execution_count": 36,
   "metadata": {},
   "outputs": [
    {
     "name": "stdout",
     "output_type": "stream",
     "text": [
      "Successfully uploaded texts/advice_guide_ca.txt\n"
     ]
    }
   ],
   "source": [
    "text_upload(\n",
    "    \"CA\", \n",
    "    \"guide\", \n",
    "    \"Welcome to the information page of conservation agriculture: \\n\"\n",
    "    \"\\n\"\n",
    "    \"Conservation agriculture is a farming system that aims to improve soil health and productivity while reducing environmental impact. It is important as the current climate is changing rapidly. \"\n",
    "    \"\\n Conservation agriculture helps adapting to unpredicatble climate and unpredictable rainfall, it provides more food security. \\n\"\n",
    "    \"\\n\"\n",
    "    \"\\n The consequences of climate change are: \\n\"\n",
    "    \"1. Extreme temperatures \\n\"\n",
    "    \"2. Unpredictable rainfall \\n\"\n",
    "    \"3. Droughts \\n\"\n",
    "    \"4. Floods \\n\"\n",
    "    \"\\n\"\n",
    "    \"Besides conservation agriculture, there are other methods to adapt to climate change, such as water tanks to always have water available, irrigation systems to efficiently water the crops, \"\n",
    "    \"and crop diversification. \\n\"\n",
    "    \"\\n\"\n",
    "    \"The three main principles of conservation agriculture are shown below. Click the button for more information.  \\n\"\n",
    "    \"1. Minimal soil disturbance \\n\"\n",
    "    \"2. Permanent soil cover with organic matters \\n\"\n",
    "    \"3. Crop rotation and intercropping \\n\"\n",
    "    \"\\n\"\n",
    "    \"A step by step guide is available to help you implement conservation agriculture in your farm. \\n\"\n",
    "      )"
   ]
  },
  {
   "cell_type": "markdown",
   "metadata": {},
   "source": [
    "Alternative cultivation techniques-aqua rice farming"
   ]
  },
  {
   "cell_type": "code",
   "execution_count": 38,
   "metadata": {},
   "outputs": [
    {
     "name": "stdout",
     "output_type": "stream",
     "text": [
      "Successfully uploaded texts/advice_guide_riceaquaculture.txt\n"
     ]
    }
   ],
   "source": [
    "text_upload(\n",
    "    \"RiceAquaculture\",\n",
    "    \"guide\",\n",
    "    \"Welcome to the information page of rice–aquaculture systems: \\n\"\n",
    "    \"\\n\"\n",
    "    \"Rice–aquaculture systems are farming methods that combine rice growing with raising aquatic animals like shrimp or fish. \"\n",
    "    \"These systems help farmers adapt to climate change, improve soil health, and increase income. \\n\"\n",
    "    \"\\n\"\n",
    "    \"This method is especially useful as the climate becomes more unpredictable, with: \\n\"\n",
    "    \"1. Salty water during dry seasons \\n\"\n",
    "    \"2. Unpredictable rainfall \\n\"\n",
    "    \"3. Flooding and drought \\n\"\n",
    "    \"\\n\"\n",
    "    \"There are two main types of rice–aquaculture systems used in Vietnam: \\n\"\n",
    "    \"\\n\"\n",
    "    \"1. Rice–Shrimp Rotation: \\n\"\n",
    "    \"- Suitable for areas with seasonal salinity (saltwater). \\n\"\n",
    "    \"- Shrimp are raised in the dry season when water is salty. \\n\"\n",
    "    \"- In the rainy season, rainwater cleans the soil and prepares it for rice. \\n\"\n",
    "    \"- Shrimp waste gives nutrients to the rice. \\n\"\n",
    "    \"- Rice helps loosen and clean the soil for the next shrimp season. \\n\"\n",
    "    \"- This system is common in the Mekong Delta. \\n\"\n",
    "    \"\\n\"\n",
    "    \"2. Rice–Fish Co-Cultivation: \\n\"\n",
    "    \"- Rice and fish are grown in the same field. \\n\"\n",
    "    \"- Helps keep rice yields strong and provides fish for food and extra income. \\n\"\n",
    "    \"- Supports household food security. \\n\"\n",
    "    \"- Must be managed carefully to avoid environmental problems. \\n\"\n",
    "    \"\\n\"\n",
    "    \"The Vietnamese government (MARD) is helping farmers with policies to support integrated farming. \\n\"\n",
    "    \"- Farmers are encouraged to convert low-yield rice fields into rice–aquaculture areas. \\n\"\n",
    "    \"- These systems improve profitability and climate resilience. \\n\"\n",
    "    \"\\n\"\n",
    "    \"Below is a simple guide for rice–fish cultivation: \\n\"\n",
    "    \"\\n\"\n",
    "    \"Start of the rainy season (May–June): \\n\"\n",
    "    \"- Transplant rice as soon as the soil is moist. \\n\"\n",
    "    \"- After 2 weeks, when rice is stable, stock the fish. \\n\"\n",
    "    \"\\n\"\n",
    "    \"If heavy rain or flooding is expected: \\n\"\n",
    "    \"- Wait to plant rice and add fish until water is stable. \\n\"\n",
    "    \"\\n\"\n",
    "    \"In dry periods: \\n\"\n",
    "    \"- Water the rice regularly. \\n\"\n",
    "    \"- Shade the fish with floating plants. \\n\"\n",
    "    \"- Reduce fish feeding to prevent water stress. \\n\"\n",
    "    \"\\n\"\n",
    "    \"Before a storm or typhoon: \\n\"\n",
    "    \"- Harvest mature rice and fish early. \\n\"\n",
    "    \"- Move fish to safer ponds if possible. \\n\"\n",
    "    \"\\n\"\n",
    ")"
   ]
  }
 ],
 "metadata": {
  "kernelspec": {
   "display_name": "base",
   "language": "python",
   "name": "python3"
  },
  "language_info": {
   "codemirror_mode": {
    "name": "ipython",
    "version": 3
   },
   "file_extension": ".py",
   "mimetype": "text/x-python",
   "name": "python",
   "nbconvert_exporter": "python",
   "pygments_lexer": "ipython3",
   "version": "3.11.5"
  }
 },
 "nbformat": 4,
 "nbformat_minor": 2
}
