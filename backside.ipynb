{
 "cells": [
  {
   "cell_type": "markdown",
   "metadata": {},
   "source": [
    "# Backend of the streamlit website"
   ]
  },
  {
   "cell_type": "code",
   "execution_count": 14,
   "metadata": {},
   "outputs": [],
   "source": [
    "from datetime import datetime, timedelta\n",
    "from dateutil.relativedelta import relativedelta  # Make sure to import this\n",
    "import requests\n",
    "import concurrent.futures\n",
    "from dateutil.relativedelta import relativedelta\n",
    "import pandas as pd\n",
    "import matplotlib.pyplot as plt\n",
    "import os\n",
    "import base64\n",
    "import pandas as pd\n",
    "import numpy as np\n",
    "from dotenv import load_dotenv\n",
    "import time\n",
    "from utils import *"
   ]
  },
  {
   "cell_type": "code",
   "execution_count": 15,
   "metadata": {},
   "outputs": [],
   "source": [
    "# Load variables from .env file\n",
    "load_dotenv()\n",
    "\n",
    "# Access the environment variables\n",
    "GITHUB_REPO = os.getenv(\"GITHUB_REPO\")\n",
    "GITHUB_BRANCH = os.getenv(\"GITHUB_BRANCH\")\n",
    "GITHUB_TOKEN = os.getenv(\"GITHUB_TOKEN\")\n",
    "api_key = os.getenv(\"API_KEY\")"
   ]
  },
  {
   "cell_type": "markdown",
   "metadata": {},
   "source": [
    "Load all location data"
   ]
  },
  {
   "cell_type": "code",
   "execution_count": 16,
   "metadata": {},
   "outputs": [],
   "source": [
    "# Column names from GeoNames documentation\n",
    "columns = [\n",
    "    \"geonameid\", \"name\", \"asciiname\", \"alternatenames\",\n",
    "    \"latitude\", \"longitude\", \"feature_class\", \"feature_code\",\n",
    "    \"country_code\", \"cc2\", \"admin1_code\", \"admin2_code\",\n",
    "    \"admin3_code\", \"admin4_code\", \"population\", \"elevation\",\n",
    "    \"dem\", \"timezone\", \"modification_date\"\n",
    "]\n",
    "\n",
    "# Load file\n",
    "coord_data = pd.read_csv(\"text_data/VN.txt\", sep=\"\\t\", names=columns, dtype=str)\n",
    "\n",
    "# Convert lat/lon and population to numeric\n",
    "coord_data[\"latitude\"] = pd.to_numeric(coord_data[\"latitude\"])\n",
    "coord_data[\"longitude\"] = pd.to_numeric(coord_data[\"longitude\"])\n",
    "coord_data[\"population\"] = pd.to_numeric(coord_data[\"population\"])"
   ]
  },
  {
   "cell_type": "markdown",
   "metadata": {},
   "source": [
    "Set a city selection "
   ]
  },
  {
   "cell_type": "code",
   "execution_count": 17,
   "metadata": {},
   "outputs": [],
   "source": [
    "selected_cities = [\"Hanoi\", \"Western Region\", \"Ho Chi Minh City\", \"Red River Delta\"] #Selected cities as start # maybe 7 largest cities?\n",
    "selected_periods = [1, 3, 6]  # in months #other timeframes"
   ]
  },
  {
   "cell_type": "markdown",
   "metadata": {},
   "source": [
    "upload temp data to github "
   ]
  },
  {
   "cell_type": "code",
   "execution_count": 18,
   "metadata": {},
   "outputs": [
    {
     "name": "stdout",
     "output_type": "stream",
     "text": [
      "Processing Hanoi for 1 month(s)...\n"
     ]
    },
    {
     "ename": "NameError",
     "evalue": "name 'fetch_and_upload' is not defined",
     "output_type": "error",
     "traceback": [
      "\u001b[0;31m---------------------------------------------------------------------------\u001b[0m",
      "\u001b[0;31mNameError\u001b[0m                                 Traceback (most recent call last)",
      "Cell \u001b[0;32mIn[18], line 5\u001b[0m\n\u001b[1;32m      3\u001b[0m \u001b[38;5;28;01mfor\u001b[39;00m months \u001b[38;5;129;01min\u001b[39;00m selected_periods:\n\u001b[1;32m      4\u001b[0m     \u001b[38;5;28mprint\u001b[39m(\u001b[38;5;124mf\u001b[39m\u001b[38;5;124m\"\u001b[39m\u001b[38;5;124mProcessing \u001b[39m\u001b[38;5;132;01m{\u001b[39;00mcity\u001b[38;5;132;01m}\u001b[39;00m\u001b[38;5;124m for \u001b[39m\u001b[38;5;132;01m{\u001b[39;00mmonths\u001b[38;5;132;01m}\u001b[39;00m\u001b[38;5;124m month(s)...\u001b[39m\u001b[38;5;124m\"\u001b[39m)\n\u001b[0;32m----> 5\u001b[0m     uploaded_url \u001b[38;5;241m=\u001b[39m fetch_and_upload(city, months)\n",
      "\u001b[0;31mNameError\u001b[0m: name 'fetch_and_upload' is not defined"
     ]
    }
   ],
   "source": [
    "# Run for all cities and periods\n",
    "for city in selected_cities:\n",
    "    for months in selected_periods:\n",
    "        print(f\"Processing {city} for {months} month(s)...\")\n",
    "        uploaded_url = fetch_and_upload(city, months)"
   ]
  }
 ],
 "metadata": {
  "kernelspec": {
   "display_name": "base",
   "language": "python",
   "name": "python3"
  },
  "language_info": {
   "codemirror_mode": {
    "name": "ipython",
    "version": 3
   },
   "file_extension": ".py",
   "mimetype": "text/x-python",
   "name": "python",
   "nbconvert_exporter": "python",
   "pygments_lexer": "ipython3",
   "version": "3.11.5"
  }
 },
 "nbformat": 4,
 "nbformat_minor": 2
}
